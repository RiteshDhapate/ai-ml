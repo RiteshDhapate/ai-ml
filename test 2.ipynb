{
 "cells": [
  {
   "cell_type": "code",
   "execution_count": 1,
   "id": "8aa8ef87",
   "metadata": {},
   "outputs": [],
   "source": [
    "import pandas as pd\n",
    "from sklearn.preprocessing import MultiLabelBinarizer\n",
    "from sklearn.model_selection import train_test_split\n",
    "from sklearn.neighbors import KNeighborsClassifier\n",
    "from sklearn.metrics import accuracy_score"
   ]
  },
  {
   "cell_type": "code",
   "execution_count": 2,
   "id": "8f1f55cd",
   "metadata": {},
   "outputs": [],
   "source": [
    "# Sample data (replace with your actual dataset loading)\n",
    "data = {\n",
    "    \"Name\": [\"Bhapkar Tanuja Yuvraj\", \"Priyanka Kalidas jadhav\", \"Navale Prashant Sunil\", \n",
    "             \"Sahil Ramesh more\", \"Bhapkar karan sanjay\", \"Tekale vaibhavi Ramesh\", \n",
    "             \"Shruti satish shitole\", \"Ganesh Mohan Choudhar\", \"Saloni singh\", \n",
    "             \"Ashwini Hanumant Wanjole\", \"Pratik Santosh pakhale\", \"Sanika gaikwad\", \n",
    "             \"Irfan Tayyab Mulani\", \"Pawashe Pandurang Laxman\", \"Shinde Sneha Sachin\", \n",
    "             \"Sarika navnath pawar\", \"Harshada Dilip Mundhekar\", \"Pratiksha Shivaji Hegade\", \n",
    "             \"Takale pratik Anil\", \"Kale pratik Santaram\", \"Gaikwad Ajinkya Santosh\", \n",
    "             \"Vighne Vedika Ravindra\", \"Farkande Aditya Bhaskar\", \"Shankar Mahadev Thombare\"],\n",
    "    \"Primary areas of interest within computer Science field\": [\n",
    "        \"Web Development;Android App Development;Windows Application Development;Application Development;Utility Software\",\n",
    "        \"Data Science;CyberSecurity\",\n",
    "        \"Web Development\",\n",
    "        \"Data Science;CyberSecurity;Web Developement\",\n",
    "        \"Web Developement\",\n",
    "        \"Android App Development\",\n",
    "        \"AI/ML\",\n",
    "        \"Web Developement\",\n",
    "        \"Operating System;Data Structure;Software Engineering\",\n",
    "        \"Web Developement\",\n",
    "        \"AI/ML;Data Science;Software Engineering;CyberSecurity;Web Developement\",\n",
    "        \"C/C++;Operating System;Data Structure;Angular JS;Node JS;Software Engineering\",\n",
    "        \"Android App Development;Application Development\",\n",
    "        \"CyberSecurity\",\n",
    "        \"C/C++\",\n",
    "        \"Software Engineering\",\n",
    "        \"Web Developement\",\n",
    "        \"Angular JS\",\n",
    "        \"Data Science\",\n",
    "        \"Software Engineering;CyberSecurity;Web Developement\",\n",
    "        \"AI/ML\",\n",
    "        \"Data Science;Web Developement\",\n",
    "        \"CyberSecurity\",\n",
    "        \"AI/ML\",\n",
    "    ]\n",
    "}"
   ]
  },
  {
   "cell_type": "code",
   "execution_count": 3,
   "id": "74437a2b",
   "metadata": {},
   "outputs": [],
   "source": [
    "# Convert data to pandas DataFrame\n",
    "df = pd.DataFrame(data)\n",
    "\n",
    "# Extract features (X) and target (y)\n",
    "X = df[\"Primary areas of interest within computer Science field\"]\n",
    "y = df[\"Name\"]"
   ]
  },
  {
   "cell_type": "code",
   "execution_count": 4,
   "id": "f688a1b1",
   "metadata": {},
   "outputs": [],
   "source": [
    "# Use MultiLabelBinarizer to encode interests\n",
    "mlb = MultiLabelBinarizer()\n",
    "X_encoded = mlb.fit_transform([interests.split(';') for interests in X])\n",
    "\n",
    "# Split data into training and testing sets\n",
    "X_train, X_test, y_train, y_test = train_test_split(X_encoded, y, test_size=0.2, random_state=42)\n",
    "\n",
    "# Initialize KNN classifier\n",
    "knn = KNeighborsClassifier(n_neighbors=3)\n",
    "\n",
    "# Train the model\n",
    "knn.fit(X_train, y_train)\n",
    "\n",
    "# Predict on the test data\n",
    "y_pred = knn.predict(X_test)"
   ]
  },
  {
   "cell_type": "code",
   "execution_count": 5,
   "id": "a051ca8d",
   "metadata": {},
   "outputs": [
    {
     "name": "stdout",
     "output_type": "stream",
     "text": [
      "Accuracy: 0.00\n",
      "Predicted interests for new student: ['Ashwini Hanumant Wanjole']\n"
     ]
    },
    {
     "name": "stderr",
     "output_type": "stream",
     "text": [
      "C:\\Users\\Ritesh\\anaconda3\\Lib\\site-packages\\sklearn\\preprocessing\\_label.py:900: UserWarning: unknown class(es) ['Web Development;Android App Development'] will be ignored\n",
      "  warnings.warn(\n"
     ]
    }
   ],
   "source": [
    "# Evaluate accuracy\n",
    "accuracy = accuracy_score(y_test, y_pred)\n",
    "print(f\"Accuracy: {accuracy:.2f}\")\n",
    "\n",
    "# Example of predicting interests for a new student\n",
    "new_student = [\"Web Development;Android App Development\"]\n",
    "new_student_encoded = mlb.transform([new_student])\n",
    "prediction = knn.predict(new_student_encoded)\n",
    "print(f\"Predicted interests for new student: {prediction}\")"
   ]
  },
  {
   "cell_type": "code",
   "execution_count": null,
   "id": "e4c44a5b",
   "metadata": {},
   "outputs": [],
   "source": []
  }
 ],
 "metadata": {
  "kernelspec": {
   "display_name": "Python 3 (ipykernel)",
   "language": "python",
   "name": "python3"
  },
  "language_info": {
   "codemirror_mode": {
    "name": "ipython",
    "version": 3
   },
   "file_extension": ".py",
   "mimetype": "text/x-python",
   "name": "python",
   "nbconvert_exporter": "python",
   "pygments_lexer": "ipython3",
   "version": "3.11.5"
  }
 },
 "nbformat": 4,
 "nbformat_minor": 5
}
