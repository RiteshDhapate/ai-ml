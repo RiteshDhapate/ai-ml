{
 "cells": [
  {
   "cell_type": "code",
   "execution_count": 1,
   "id": "735d2791",
   "metadata": {},
   "outputs": [],
   "source": [
    "import pandas as pd\n",
    "\n",
    "# Load the CSV data into a Dataframe --->\n",
    "df = pd.read_csv('college.csv')\n"
   ]
  },
  {
   "cell_type": "code",
   "execution_count": 2,
   "id": "0da6322b",
   "metadata": {},
   "outputs": [],
   "source": [
    "# Select relevant columns for analysis\n",
    "columns_of_interest = [\n",
    "    'Faculty',\n",
    "    'Are you currently taking any add-on or extra cocurricular courses outside of your major requirements?',\n",
    "    'Do you prefer courses that are more theoretical or practical in nature?',\n",
    "    'Are you interested to learn add on courses?',\n",
    "    'Which Programming Languages are you Proficient in?',\n",
    "    'Interested in',\n",
    "    'What are your Primary areas of interest within computer Science field?',\n",
    "    'Do you have any background knowledge in '\n",
    "]"
   ]
  },
  {
   "cell_type": "code",
   "execution_count": 3,
   "id": "6e21cc70",
   "metadata": {},
   "outputs": [],
   "source": [
    "\n",
    "# Drop any rows with missing values if necessary\n",
    "df = df.dropna()\n"
   ]
  },
  {
   "cell_type": "code",
   "execution_count": 4,
   "id": "7ebeedc2",
   "metadata": {},
   "outputs": [
    {
     "name": "stdout",
     "output_type": "stream",
     "text": [
      "Total students: 560\n",
      "\n",
      "Interest in add-on courses:\n",
      "Are you interested to learn add on courses?\n",
      "Yes    533\n",
      "No      27\n",
      "Name: count, dtype: int64\n"
     ]
    }
   ],
   "source": [
    "# Print summary statistics or insights based on the questions of interest\n",
    "print(\"Total students:\", len(df))\n",
    "print(\"\\nInterest in add-on courses:\")\n",
    "print(df['Are you interested to learn add on courses?'].value_counts())"
   ]
  },
  {
   "cell_type": "code",
   "execution_count": 5,
   "id": "4d5c27da",
   "metadata": {},
   "outputs": [
    {
     "name": "stdout",
     "output_type": "stream",
     "text": [
      "\n",
      "Preference for theoretical vs practical courses:\n",
      "Do you prefer courses that are more theoretical or practical in nature?\n",
      "Both           353\n",
      "Practical      171\n",
      "Theoretical     36\n",
      "Name: count, dtype: int64\n"
     ]
    }
   ],
   "source": [
    "print(\"\\nPreference for theoretical vs practical courses:\")\n",
    "print(df['Do you prefer courses that are more theoretical or practical in nature?'].value_counts())"
   ]
  },
  {
   "cell_type": "code",
   "execution_count": 6,
   "id": "d125b812",
   "metadata": {},
   "outputs": [
    {
     "name": "stdout",
     "output_type": "stream",
     "text": [
      "\n",
      "Proficiency in Programming Languages:\n",
      "Which Programming Languages are you Proficient in?\n",
      "C/C++         394\n",
      "Python        226\n",
      "Java          182\n",
      "JavaScript    142\n",
      "Angular JS     43\n",
      "Name: count, dtype: int64\n"
     ]
    }
   ],
   "source": [
    "print(\"\\nProficiency in Programming Languages:\")\n",
    "# Count programming languages proficiency\n",
    "programming_languages = df['Which Programming Languages are you Proficient in?'].str.split(';').explode().value_counts()\n",
    "print(programming_languages)"
   ]
  },
  {
   "cell_type": "code",
   "execution_count": 7,
   "id": "4653ad0f",
   "metadata": {},
   "outputs": [
    {
     "name": "stdout",
     "output_type": "stream",
     "text": [
      "\n",
      "Primary areas of interest within computer Science field:\n",
      "What are your Primary areas of interest within computer Science field?\n",
      "Web Developement        279\n",
      "Data Science            230\n",
      "CyberSecurity           220\n",
      "Software Engineering    197\n",
      "AI/ML                   173\n",
      "Name: count, dtype: int64\n"
     ]
    }
   ],
   "source": [
    "print(\"\\nPrimary areas of interest within computer Science field:\")\n",
    "# Count primary areas of interest\n",
    "areas_of_interest = df['What are your Primary areas of interest within computer Science field?'].str.split(';').explode().value_counts()\n",
    "print(areas_of_interest)"
   ]
  },
  {
   "cell_type": "code",
   "execution_count": 8,
   "id": "48b00825",
   "metadata": {},
   "outputs": [
    {
     "data": {
      "image/png": "[encoded data removed]",
      "text/plain": [
       "<Figure size 800x600 with 1 Axes>"
      ]
     },
     "metadata": {},
     "output_type": "display_data"
    }
   ],
   "source": [
    "\n",
    "# Example of a plot (uncomment and customize as needed)\n",
    "import matplotlib.pyplot as plt\n",
    "plt.figure(figsize=(8, 6))\n",
    "df['Faculty'].value_counts().plot(kind='bar')\n",
    "plt.title('Distribution of Students by Faculty')\n",
    "plt.xlabel('Faculty')\n",
    "plt.ylabel('Number of Students')\n",
    "plt.xticks(rotation=45)\n",
    "plt.show()"
   ]
  },
  {
   "cell_type": "code",
   "execution_count": null,
   "id": "8d52ee16",
   "metadata": {},
   "outputs": [],
   "source": []
  }
 ],
 "metadata": {
  "kernelspec": {
   "display_name": "Python 3 (ipykernel)",
   "language": "python",
   "name": "python3"
  },
  "language_info": {
   "codemirror_mode": {
    "name": "ipython",
    "version": 3
   },
   "file_extension": ".py",
   "mimetype": "text/x-python",
   "name": "python",
   "nbconvert_exporter": "python",
   "pygments_lexer": "ipython3",
   "version": "3.11.5"
  }
 },
 "nbformat": 4,
 "nbformat_minor": 5
}
